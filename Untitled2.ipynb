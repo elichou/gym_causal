{
 "cells": [
  {
   "cell_type": "code",
   "execution_count": 52,
   "metadata": {},
   "outputs": [],
   "source": [
    "import pandas as pd\n",
    "import gym\n",
    "import numpy as np\n",
    "import networkx as nx\n",
    "import gym_causal\n",
    "import random "
   ]
  },
  {
   "cell_type": "code",
   "execution_count": 53,
   "metadata": {},
   "outputs": [
    {
     "data": {
      "text/plain": [
       "'1.1.4'"
      ]
     },
     "execution_count": 53,
     "metadata": {},
     "output_type": "execute_result"
    }
   ],
   "source": [
    "pandas.__version__"
   ]
  },
  {
   "cell_type": "code",
   "execution_count": 93,
   "metadata": {},
   "outputs": [],
   "source": [
    "class CausalDynaAgent(object):\n",
    "    def __init__(self, action_space, observation_space, reward_space, epsilon = 0.1):\n",
    "        self.action_space = action_space\n",
    "        self.observation_space = observation_space\n",
    "        self.reward_space = reward_space\n",
    "        \n",
    "        self.num_actions = len(self.action_space)\n",
    "        self.num_observations = len(self.observation_space)\n",
    "        self.num_rewards = len(self.reward_space)\n",
    "        self.epsilon = epsilon\n",
    "        \n",
    "        self.q_values = np.zeros((self.num_actions, self.num_observations))\n",
    "        self.past_action = -1\n",
    "        self.past_state = -1\n",
    "        \n",
    "        self.graph = nx.DiGraph()\n",
    "        self.data = pd.DataFrame(np.array([np.zeros((self.num_actions + self.num_observations + self.num_rewards,))]))\n",
    "\n",
    "    def update(self, action, observation, reward):\n",
    "        tmp = np.array(np.zeros((self.num_actions + self.num_observations + self.num_rewards,)))\n",
    "        action_index = np.where(self.action_space == action)[0][0]\n",
    "        observation_index = np.where(self.observation_space == observation)[0][0]\n",
    "        reward_index = np.where(self.reward_space == reward)[0][0]\n",
    "        tmp[action_index] = 1\n",
    "        tmp[observation_index+self.num_actions] = 1\n",
    "        tmp[reward_index+self.num_observations+self.num_actions] = 1\n",
    "        self.data = self.data.append([tmp.tolist()])\n",
    "        print(tmp)\n",
    "        \n",
    "    def act(self):\n",
    "        return random.choice(self.action_space)"
   ]
  },
  {
   "cell_type": "code",
   "execution_count": 94,
   "metadata": {},
   "outputs": [
    {
     "name": "stdout",
     "output_type": "stream",
     "text": [
      "[0. 1. 0. 1. 1. 0. 0.]\n",
      "[0. 1. 0. 1. 1. 0. 0.]\n",
      "[0. 1. 0. 1. 1. 0. 0.]\n",
      "[0. 1. 0. 1. 1. 0. 0.]\n",
      "[0. 1. 0. 1. 1. 0. 0.]\n",
      "[0. 1. 0. 1. 1. 0. 0.]\n",
      "[0. 1. 0. 1. 1. 0. 0.]\n",
      "[1. 0. 1. 0. 1. 0. 0.]\n",
      "[1. 0. 1. 0. 1. 0. 0.]\n",
      "[0. 1. 1. 0. 1. 0. 0.]\n",
      "[1. 0. 1. 0. 1. 0. 0.]\n",
      "[0. 1. 0. 1. 1. 0. 0.]\n",
      "[1. 0. 0. 1. 1. 0. 0.]\n",
      "[1. 0. 1. 0. 1. 0. 0.]\n",
      "[1. 0. 1. 0. 1. 0. 0.]\n",
      "[0. 1. 0. 1. 1. 0. 0.]\n",
      "[0. 1. 0. 1. 1. 0. 0.]\n",
      "[0. 1. 0. 1. 1. 0. 0.]\n",
      "[1. 0. 1. 0. 1. 0. 0.]\n",
      "[1. 0. 1. 0. 1. 0. 0.]\n",
      "[1. 0. 1. 0. 1. 0. 0.]\n",
      "[0. 1. 0. 1. 1. 0. 0.]\n",
      "[1. 0. 1. 0. 1. 0. 0.]\n",
      "[0. 1. 0. 1. 1. 0. 0.]\n",
      "[0. 1. 0. 1. 1. 0. 0.]\n",
      "[1. 0. 1. 0. 1. 0. 0.]\n",
      "[0. 1. 0. 1. 1. 0. 0.]\n",
      "[1. 0. 0. 1. 1. 0. 0.]\n",
      "[0. 1. 0. 1. 1. 0. 0.]\n",
      "[0. 1. 0. 1. 1. 0. 0.]\n",
      "[0. 1. 1. 0. 1. 0. 0.]\n",
      "[0. 1. 0. 1. 1. 0. 0.]\n",
      "[1. 0. 1. 0. 1. 0. 0.]\n",
      "[0. 1. 0. 1. 1. 0. 0.]\n",
      "[1. 0. 1. 0. 1. 0. 0.]\n",
      "[1. 0. 1. 0. 1. 0. 0.]\n",
      "[1. 0. 1. 0. 1. 0. 0.]\n",
      "[0. 1. 0. 1. 1. 0. 0.]\n",
      "[1. 0. 1. 0. 1. 0. 0.]\n",
      "[0. 1. 0. 1. 1. 0. 0.]\n",
      "[0. 1. 0. 1. 1. 0. 0.]\n",
      "[0. 1. 0. 1. 1. 0. 0.]\n",
      "[1. 0. 1. 0. 1. 0. 0.]\n",
      "[0. 1. 0. 1. 1. 0. 0.]\n",
      "[0. 1. 1. 0. 1. 0. 0.]\n",
      "[0. 1. 1. 0. 1. 0. 0.]\n",
      "[1. 0. 1. 0. 1. 0. 0.]\n",
      "[0. 1. 0. 1. 1. 0. 0.]\n",
      "[0. 1. 0. 1. 1. 0. 0.]\n",
      "[0. 1. 0. 1. 1. 0. 0.]\n",
      "[1. 0. 1. 0. 1. 0. 0.]\n",
      "[1. 0. 1. 0. 1. 0. 0.]\n",
      "[0. 1. 0. 1. 1. 0. 0.]\n",
      "[1. 0. 1. 0. 1. 0. 0.]\n",
      "[1. 0. 1. 0. 1. 0. 0.]\n",
      "[0. 1. 0. 1. 1. 0. 0.]\n",
      "[0. 1. 0. 1. 1. 0. 0.]\n",
      "[0. 1. 0. 1. 1. 0. 0.]\n",
      "[1. 0. 0. 1. 1. 0. 0.]\n",
      "[0. 1. 0. 1. 1. 0. 0.]\n",
      "[0. 1. 0. 1. 1. 0. 0.]\n",
      "[1. 0. 1. 0. 1. 0. 0.]\n",
      "[1. 0. 1. 0. 1. 0. 0.]\n",
      "[1. 0. 1. 0. 1. 0. 0.]\n",
      "[0. 1. 0. 1. 1. 0. 0.]\n",
      "[1. 0. 1. 0. 1. 0. 0.]\n",
      "[0. 1. 1. 0. 1. 0. 0.]\n",
      "[0. 1. 0. 1. 1. 0. 0.]\n",
      "[1. 0. 1. 0. 1. 0. 0.]\n",
      "[1. 0. 1. 0. 1. 0. 0.]\n",
      "[1. 0. 0. 1. 1. 0. 0.]\n",
      "[0. 1. 0. 1. 1. 0. 0.]\n",
      "[0. 1. 0. 1. 1. 0. 0.]\n",
      "[1. 0. 1. 0. 1. 0. 0.]\n",
      "[0. 1. 0. 1. 1. 0. 0.]\n",
      "[0. 1. 1. 0. 1. 0. 0.]\n",
      "[0. 1. 1. 0. 1. 0. 0.]\n",
      "[1. 0. 1. 0. 1. 0. 0.]\n",
      "[0. 1. 0. 1. 1. 0. 0.]\n",
      "[1. 0. 1. 0. 1. 0. 0.]\n",
      "[1. 0. 1. 0. 1. 0. 0.]\n",
      "[0. 1. 0. 1. 1. 0. 0.]\n",
      "[1. 0. 1. 0. 1. 0. 0.]\n",
      "[1. 0. 1. 0. 1. 0. 0.]\n",
      "[1. 0. 1. 0. 1. 0. 0.]\n",
      "[0. 1. 0. 1. 1. 0. 0.]\n",
      "[0. 1. 0. 1. 1. 0. 0.]\n",
      "[1. 0. 1. 0. 1. 0. 0.]\n",
      "[1. 0. 1. 0. 1. 0. 0.]\n",
      "[1. 0. 1. 0. 1. 0. 0.]\n",
      "[0. 1. 0. 1. 1. 0. 0.]\n",
      "[0. 1. 0. 1. 1. 0. 0.]\n",
      "[0. 1. 0. 1. 1. 0. 0.]\n",
      "[0. 1. 0. 1. 1. 0. 0.]\n",
      "[0. 1. 0. 1. 1. 0. 0.]\n",
      "[0. 1. 1. 0. 1. 0. 0.]\n",
      "[0. 1. 0. 1. 1. 0. 0.]\n",
      "[0. 1. 1. 0. 1. 0. 0.]\n",
      "[0. 1. 0. 1. 1. 0. 0.]\n",
      "[1. 0. 1. 0. 1. 0. 0.]\n"
     ]
    }
   ],
   "source": [
    "n = 100\n",
    "x = np.zeros(n)\n",
    "env = gym.make('gym_causal:causal-v0')\n",
    "env.reset()\n",
    "env.set_probs(0.8,0.2)\n",
    "agent = CausalDynaAgent(env.action_space, env.observation_space, env.reward_space)\n",
    "for i in range(n):\n",
    "    action = agent.act()\n",
    "    observation, reward, done, _ = env.step(action)\n",
    "    #print('obs', obs, 'reward', reward)\n",
    "\n",
    "    agent.update(action, observation, reward)"
   ]
  },
  {
   "cell_type": "code",
   "execution_count": 98,
   "metadata": {},
   "outputs": [
    {
     "name": "stderr",
     "output_type": "stream",
     "text": [
      "No GPU automatically detected. Setting SETTINGS.GPU to 0, and SETTINGS.NJOBS to cpu_count.\n",
      "Objective did not converge. You might want to increase the number of iterations. Duality gap: 0.0, tolerance: 0.0\n",
      "divide by zero encountered in double_scalars\n",
      "invalid value encountered in multiply\n",
      "invalid value encountered in multiply\n",
      "Objective did not converge. You might want to increase the number of iterations. Duality gap: nan, tolerance: 0.0\n"
     ]
    },
    {
     "ename": "FloatingPointError",
     "evalue": "The system is too ill-conditioned for this solver. The system is too ill-conditioned for this solver",
     "output_type": "error",
     "traceback": [
      "\u001b[0;31m-----------------------------------------------------------------------\u001b[0m",
      "\u001b[0;31mFloatingPointError\u001b[0m                    Traceback (most recent call last)",
      "\u001b[0;32m<ipython-input-98-a71b029cce93>\u001b[0m in \u001b[0;36m<module>\u001b[0;34m\u001b[0m\n\u001b[1;32m      1\u001b[0m \u001b[0;32mimport\u001b[0m \u001b[0mcdt\u001b[0m\u001b[0;34m\u001b[0m\u001b[0;34m\u001b[0m\u001b[0m\n\u001b[1;32m      2\u001b[0m \u001b[0mglasso\u001b[0m \u001b[0;34m=\u001b[0m \u001b[0mcdt\u001b[0m\u001b[0;34m.\u001b[0m\u001b[0mindependence\u001b[0m\u001b[0;34m.\u001b[0m\u001b[0mgraph\u001b[0m\u001b[0;34m.\u001b[0m\u001b[0mGlasso\u001b[0m\u001b[0;34m(\u001b[0m\u001b[0;34m)\u001b[0m\u001b[0;34m\u001b[0m\u001b[0;34m\u001b[0m\u001b[0m\n\u001b[0;32m----> 3\u001b[0;31m \u001b[0mskeleton\u001b[0m \u001b[0;34m=\u001b[0m \u001b[0mglasso\u001b[0m\u001b[0;34m.\u001b[0m\u001b[0mpredict\u001b[0m\u001b[0;34m(\u001b[0m\u001b[0magent\u001b[0m\u001b[0;34m.\u001b[0m\u001b[0mdata\u001b[0m\u001b[0;34m)\u001b[0m\u001b[0;34m\u001b[0m\u001b[0;34m\u001b[0m\u001b[0m\n\u001b[0m\u001b[1;32m      4\u001b[0m \u001b[0mprint\u001b[0m\u001b[0;34m(\u001b[0m\u001b[0mskeleton\u001b[0m\u001b[0;34m)\u001b[0m\u001b[0;34m\u001b[0m\u001b[0;34m\u001b[0m\u001b[0m\n",
      "\u001b[0;32m~/.local/lib/python3.8/site-packages/cdt/independence/graph/Lasso.py\u001b[0m in \u001b[0;36mpredict\u001b[0;34m(self, data, alpha, max_iter, **kwargs)\u001b[0m\n\u001b[1;32m     64\u001b[0m         \"\"\"\n\u001b[1;32m     65\u001b[0m         \u001b[0medge_model\u001b[0m \u001b[0;34m=\u001b[0m \u001b[0mGraphicalLasso\u001b[0m\u001b[0;34m(\u001b[0m\u001b[0malpha\u001b[0m\u001b[0;34m=\u001b[0m\u001b[0malpha\u001b[0m\u001b[0;34m,\u001b[0m \u001b[0mmax_iter\u001b[0m\u001b[0;34m=\u001b[0m\u001b[0mmax_iter\u001b[0m\u001b[0;34m)\u001b[0m\u001b[0;34m\u001b[0m\u001b[0;34m\u001b[0m\u001b[0m\n\u001b[0;32m---> 66\u001b[0;31m         \u001b[0medge_model\u001b[0m\u001b[0;34m.\u001b[0m\u001b[0mfit\u001b[0m\u001b[0;34m(\u001b[0m\u001b[0mdata\u001b[0m\u001b[0;34m.\u001b[0m\u001b[0mvalues\u001b[0m\u001b[0;34m)\u001b[0m\u001b[0;34m\u001b[0m\u001b[0;34m\u001b[0m\u001b[0m\n\u001b[0m\u001b[1;32m     67\u001b[0m \u001b[0;34m\u001b[0m\u001b[0m\n\u001b[1;32m     68\u001b[0m         return nx.relabel_nodes(nx.DiGraph(edge_model.get_precision()),\n",
      "\u001b[0;32m~/.local/lib/python3.8/site-packages/sklearn/covariance/_graph_lasso.py\u001b[0m in \u001b[0;36mfit\u001b[0;34m(self, X, y)\u001b[0m\n\u001b[1;32m    400\u001b[0m         emp_cov = empirical_covariance(\n\u001b[1;32m    401\u001b[0m             X, assume_centered=self.assume_centered)\n\u001b[0;32m--> 402\u001b[0;31m         self.covariance_, self.precision_, self.n_iter_ = graphical_lasso(\n\u001b[0m\u001b[1;32m    403\u001b[0m             \u001b[0memp_cov\u001b[0m\u001b[0;34m,\u001b[0m \u001b[0malpha\u001b[0m\u001b[0;34m=\u001b[0m\u001b[0mself\u001b[0m\u001b[0;34m.\u001b[0m\u001b[0malpha\u001b[0m\u001b[0;34m,\u001b[0m \u001b[0mmode\u001b[0m\u001b[0;34m=\u001b[0m\u001b[0mself\u001b[0m\u001b[0;34m.\u001b[0m\u001b[0mmode\u001b[0m\u001b[0;34m,\u001b[0m \u001b[0mtol\u001b[0m\u001b[0;34m=\u001b[0m\u001b[0mself\u001b[0m\u001b[0;34m.\u001b[0m\u001b[0mtol\u001b[0m\u001b[0;34m,\u001b[0m\u001b[0;34m\u001b[0m\u001b[0;34m\u001b[0m\u001b[0m\n\u001b[1;32m    404\u001b[0m             \u001b[0menet_tol\u001b[0m\u001b[0;34m=\u001b[0m\u001b[0mself\u001b[0m\u001b[0;34m.\u001b[0m\u001b[0menet_tol\u001b[0m\u001b[0;34m,\u001b[0m \u001b[0mmax_iter\u001b[0m\u001b[0;34m=\u001b[0m\u001b[0mself\u001b[0m\u001b[0;34m.\u001b[0m\u001b[0mmax_iter\u001b[0m\u001b[0;34m,\u001b[0m\u001b[0;34m\u001b[0m\u001b[0;34m\u001b[0m\u001b[0m\n",
      "\u001b[0;32m~/.local/lib/python3.8/site-packages/sklearn/utils/validation.py\u001b[0m in \u001b[0;36minner_f\u001b[0;34m(*args, **kwargs)\u001b[0m\n\u001b[1;32m     70\u001b[0m                           FutureWarning)\n\u001b[1;32m     71\u001b[0m         \u001b[0mkwargs\u001b[0m\u001b[0;34m.\u001b[0m\u001b[0mupdate\u001b[0m\u001b[0;34m(\u001b[0m\u001b[0;34m{\u001b[0m\u001b[0mk\u001b[0m\u001b[0;34m:\u001b[0m \u001b[0marg\u001b[0m \u001b[0;32mfor\u001b[0m \u001b[0mk\u001b[0m\u001b[0;34m,\u001b[0m \u001b[0marg\u001b[0m \u001b[0;32min\u001b[0m \u001b[0mzip\u001b[0m\u001b[0;34m(\u001b[0m\u001b[0msig\u001b[0m\u001b[0;34m.\u001b[0m\u001b[0mparameters\u001b[0m\u001b[0;34m,\u001b[0m \u001b[0margs\u001b[0m\u001b[0;34m)\u001b[0m\u001b[0;34m}\u001b[0m\u001b[0;34m)\u001b[0m\u001b[0;34m\u001b[0m\u001b[0;34m\u001b[0m\u001b[0m\n\u001b[0;32m---> 72\u001b[0;31m         \u001b[0;32mreturn\u001b[0m \u001b[0mf\u001b[0m\u001b[0;34m(\u001b[0m\u001b[0;34m**\u001b[0m\u001b[0mkwargs\u001b[0m\u001b[0;34m)\u001b[0m\u001b[0;34m\u001b[0m\u001b[0;34m\u001b[0m\u001b[0m\n\u001b[0m\u001b[1;32m     73\u001b[0m     \u001b[0;32mreturn\u001b[0m \u001b[0minner_f\u001b[0m\u001b[0;34m\u001b[0m\u001b[0;34m\u001b[0m\u001b[0m\n\u001b[1;32m     74\u001b[0m \u001b[0;34m\u001b[0m\u001b[0m\n",
      "\u001b[0;32m~/.local/lib/python3.8/site-packages/sklearn/covariance/_graph_lasso.py\u001b[0m in \u001b[0;36mgraphical_lasso\u001b[0;34m(emp_cov, alpha, cov_init, mode, tol, enet_tol, max_iter, verbose, return_costs, eps, return_n_iter)\u001b[0m\n\u001b[1;32m    268\u001b[0m         e.args = (e.args[0]\n\u001b[1;32m    269\u001b[0m                   + '. The system is too ill-conditioned for this solver',)\n\u001b[0;32m--> 270\u001b[0;31m         \u001b[0;32mraise\u001b[0m \u001b[0me\u001b[0m\u001b[0;34m\u001b[0m\u001b[0;34m\u001b[0m\u001b[0m\n\u001b[0m\u001b[1;32m    271\u001b[0m \u001b[0;34m\u001b[0m\u001b[0m\n\u001b[1;32m    272\u001b[0m     \u001b[0;32mif\u001b[0m \u001b[0mreturn_costs\u001b[0m\u001b[0;34m:\u001b[0m\u001b[0;34m\u001b[0m\u001b[0;34m\u001b[0m\u001b[0m\n",
      "\u001b[0;32m~/.local/lib/python3.8/site-packages/sklearn/covariance/_graph_lasso.py\u001b[0m in \u001b[0;36mgraphical_lasso\u001b[0;34m(emp_cov, alpha, cov_init, mode, tol, enet_tol, max_iter, verbose, return_costs, eps, return_n_iter)\u001b[0m\n\u001b[1;32m    246\u001b[0m                 \u001b[0mcovariance_\u001b[0m\u001b[0;34m[\u001b[0m\u001b[0mindices\u001b[0m \u001b[0;34m!=\u001b[0m \u001b[0midx\u001b[0m\u001b[0;34m,\u001b[0m \u001b[0midx\u001b[0m\u001b[0;34m]\u001b[0m \u001b[0;34m=\u001b[0m \u001b[0mcoefs\u001b[0m\u001b[0;34m\u001b[0m\u001b[0;34m\u001b[0m\u001b[0m\n\u001b[1;32m    247\u001b[0m             \u001b[0;32mif\u001b[0m \u001b[0;32mnot\u001b[0m \u001b[0mnp\u001b[0m\u001b[0;34m.\u001b[0m\u001b[0misfinite\u001b[0m\u001b[0;34m(\u001b[0m\u001b[0mprecision_\u001b[0m\u001b[0;34m.\u001b[0m\u001b[0msum\u001b[0m\u001b[0;34m(\u001b[0m\u001b[0;34m)\u001b[0m\u001b[0;34m)\u001b[0m\u001b[0;34m:\u001b[0m\u001b[0;34m\u001b[0m\u001b[0;34m\u001b[0m\u001b[0m\n\u001b[0;32m--> 248\u001b[0;31m                 raise FloatingPointError('The system is too ill-conditioned '\n\u001b[0m\u001b[1;32m    249\u001b[0m                                          'for this solver')\n\u001b[1;32m    250\u001b[0m             \u001b[0md_gap\u001b[0m \u001b[0;34m=\u001b[0m \u001b[0m_dual_gap\u001b[0m\u001b[0;34m(\u001b[0m\u001b[0memp_cov\u001b[0m\u001b[0;34m,\u001b[0m \u001b[0mprecision_\u001b[0m\u001b[0;34m,\u001b[0m \u001b[0malpha\u001b[0m\u001b[0;34m)\u001b[0m\u001b[0;34m\u001b[0m\u001b[0;34m\u001b[0m\u001b[0m\n",
      "\u001b[0;31mFloatingPointError\u001b[0m: The system is too ill-conditioned for this solver. The system is too ill-conditioned for this solver"
     ]
    }
   ],
   "source": [
    "import cdt \n",
    "glasso = cdt.independence.graph.Glasso()\n",
    "skeleton = glasso.predict(agent.data)\n",
    "print(skeleton)"
   ]
  },
  {
   "cell_type": "code",
   "execution_count": null,
   "metadata": {},
   "outputs": [],
   "source": []
  }
 ],
 "metadata": {
  "kernelspec": {
   "display_name": "Python 3",
   "language": "python",
   "name": "python3"
  },
  "language_info": {
   "codemirror_mode": {
    "name": "ipython",
    "version": 3
   },
   "file_extension": ".py",
   "mimetype": "text/x-python",
   "name": "python",
   "nbconvert_exporter": "python",
   "pygments_lexer": "ipython3",
   "version": "3.8.5"
  }
 },
 "nbformat": 4,
 "nbformat_minor": 4
}
