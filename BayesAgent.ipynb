{
 "cells": [
  {
   "cell_type": "code",
   "execution_count": 52,
   "metadata": {},
   "outputs": [],
   "source": [
    "import gym_causal\n",
    "import numpy as np\n",
    "import bayespy as bae\n",
    "from bayespy.nodes import Bernoulli, Beta\n",
    "import bayespy.plot as bpplt\n",
    "import gym\n",
    "import random\n",
    "import scipy.stats as st"
   ]
  },
  {
   "cell_type": "code",
   "execution_count": 118,
   "metadata": {},
   "outputs": [],
   "source": [
    "class BayesBernAgent(object):\n",
    "    \n",
    "    def __init__(self, action_space, observation_space, reward_space):\n",
    "        self.action_space = action_space\n",
    "        self.observation_space = observation_space\n",
    "        self.reward_space = reward_space\n",
    "        self.beta_params = np.array([1, 1])\n",
    "        self.p_action = st.beta.rvs(self.beta_params[0], self.beta_params[1], size=1) # initial Bernoulli params for each actions\n",
    "        \n",
    "    def act(self):\n",
    "        return st.bernoulli.rvs(self.p_action)\n",
    "\n",
    "    def update(self, action, observation):\n",
    "        a, b = self.beta_params\n",
    "        a = a + observation\n",
    "        b = b + 1 - observation\n",
    "        self.beta_params = np.array([np.maximum(0,a), np.maximum(b, 0)])\n",
    "        self.p_action = st.beta.rvs(self.beta_params[0], self.beta_params[1], size=1) # initial Bernoulli params for each actions\n",
    "        "
   ]
  },
  {
   "cell_type": "code",
   "execution_count": 121,
   "metadata": {},
   "outputs": [],
   "source": [
    "n = 10000\n",
    "x = np.zeros(n)\n",
    "env = gym.make('gym_causal:causal-v0')\n",
    "env.reset()\n",
    "env.set_probs(0.8,0.2)\n",
    "agent = BayesBernAgent(env.action_space, env.observation_space, env.reward_space)\n",
    "for i in range(n):\n",
    "    action = agent.act()\n",
    "    obs, reward, done, _ = env.step(action)\n",
    "    #print('obs', obs, 'reward', reward)\n",
    "    a, b = agent.beta_params\n",
    "    x[i] = agent.p_action\n",
    "    agent.update(action, obs)"
   ]
  },
  {
   "cell_type": "code",
   "execution_count": 122,
   "metadata": {},
   "outputs": [
    {
     "data": {
      "text/plain": [
       "[<matplotlib.lines.Line2D at 0x7f9229a6ec10>]"
      ]
     },
     "execution_count": 122,
     "metadata": {},
     "output_type": "execute_result"
    },
    {
     "data": {
      "image/png": "[encoded data removed]",
      "text/plain": [
       "<Figure size 432x288 with 1 Axes>"
      ]
     },
     "metadata": {
      "needs_background": "light"
     },
     "output_type": "display_data"
    }
   ],
   "source": [
    "import matplotlib.pyplot as plt\n",
    "plt.plot(np.arange(n), x)"
   ]
  },
  {
   "cell_type": "code",
   "execution_count": null,
   "metadata": {},
   "outputs": [],
   "source": []
  }
 ],
 "metadata": {
  "kernelspec": {
   "display_name": "Python 3",
   "language": "python",
   "name": "python3"
  },
  "language_info": {
   "codemirror_mode": {
    "name": "ipython",
    "version": 3
   },
   "file_extension": ".py",
   "mimetype": "text/x-python",
   "name": "python",
   "nbconvert_exporter": "python",
   "pygments_lexer": "ipython3",
   "version": "3.8.5"
  }
 },
 "nbformat": 4,
 "nbformat_minor": 4
}
