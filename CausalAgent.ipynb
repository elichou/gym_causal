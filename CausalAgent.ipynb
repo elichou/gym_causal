{
 "cells": [
  {
   "cell_type": "code",
   "execution_count": 4,
   "metadata": {},
   "outputs": [],
   "source": [
    "import gym_causal\n",
    "import numpy as np\n",
    "import matplotlib.pyplot as plt\n",
    "import gym\n",
    "import networkx as nx\n",
    "import random\n",
    "import scipy.special as spc"
   ]
  },
  {
   "cell_type": "code",
   "execution_count": 5,
   "metadata": {},
   "outputs": [],
   "source": [
    "class Agent(object):\n",
    "    \"\"\"\n",
    "    Causal Agent\n",
    "    \"\"\"\n",
    "    def __init__(self, act_space, obs_space, rew_space):\n",
    "        \n",
    "        self.action_space = act_space\n",
    "        self.observation_space = obs_space\n",
    "        self.reward_space = rew_space\n",
    "        self.time = 0\n",
    "        self.occ_table = np.zeros([len(rew_space),\n",
    "                           len(self.action_space),\n",
    "                           len(self.observation_space)])\n",
    "        self.G = self.create_graph()\n",
    "        self.memory = np.zeros((1, 4))\n",
    "        \n",
    "    def create_graph(self):\n",
    "        \"\"\"\n",
    "        Init the causal graph\n",
    "        \n",
    "        \"\"\"\n",
    "        \n",
    "        G = nx.DiGraph()\n",
    "        \n",
    "        for i in range(len(self.observation_space)):\n",
    "            node_name = \"obs\" + str(i)\n",
    "            G.add_node(node_name)\n",
    "        for i in range(len(self.action_space)):\n",
    "            node_name = \"act\" + str(i)\n",
    "            G.add_node(node_name)\n",
    "        for i in range(len(self.reward_space)):\n",
    "            node_name = \"rew\" + str(i)\n",
    "            G.add_node(node_name)\n",
    "            \n",
    "        return G\n",
    "\n",
    "    def act(self, temp):\n",
    "        \n",
    "        if (self.time == 0):\n",
    "            action = random.choice(self.action_space)\n",
    "        else:\n",
    "            probs = np.exp(agent.occ_table[1:].sum(axis=0)/temp) / np.sum(np.exp(agent.occ_table[1:].sum(axis=0)/temp))\n",
    "            cumul = 0\n",
    "            choice = random.uniform(0, 1)\n",
    "            for a, pr in enumerate(probs[:, 1]):\n",
    "                cumul += pr\n",
    "                if cumul > choice:\n",
    "                    action = a  \n",
    "                else: \n",
    "                    action = random.choice(self.action_space)                  \n",
    "        self.time += 1\n",
    "\n",
    "        return action\n",
    "    \n",
    "\n",
    "        \n",
    "    def update_memory(self, act, obs, rew, done):\n",
    "        \n",
    "        self.memory = np.append(self.memory, np.array([[act, obs, rew, done]]), axis = 0)   \n",
    "\n",
    "        # first get the nodes corresponding to last action/ob/rew\n",
    "        action_node = \"act\" + str(np.where(act == self.action_space)[0][0])\n",
    "        obs_node = \"obs\" + str(np.where(obs == self.observation_space)[0][0])\n",
    "        rew_node = \"rew\" + str(np.where(rew == self.reward_space)[0][0])\n",
    "        \n",
    "        # check if the edges already exist to update the weights\n",
    "        if ((action_node, obs_node) in self.G.edges):\n",
    "            act_obs_weight = self.G[action_node][obs_node]['weight']\n",
    "        else: \n",
    "             act_obs_weight = 1\n",
    "        \n",
    "        if ((action_node, rew_node) in self.G.edges):\n",
    "            act_rew_weight = self.G[action_node][rew_node]['weight']\n",
    "        else:\n",
    "            act_rew_weight = 1\n",
    "        \n",
    "        if ((obs_node, rew_node) in self.G.edges):\n",
    "            obs_rew_weight = self.G[obs_node][rew_node]['weight']\n",
    "        else:\n",
    "            obs_rew_weight = 1\n",
    "            \n",
    "        # then draw edges from action to (obs and rew) nodes\n",
    "        self.G.add_edge(action_node, obs_node, weight = act_obs_weight + 1)\n",
    "        self.G.add_edge(action_node, rew_node, weight = act_rew_weight + 1)\n",
    "        self.G.add_edge(obs_node, rew_node, weight = obs_rew_weight + 1)\n",
    "        \n",
    "        # update co occurence table \n",
    "        i = (np.where(rew == self.reward_space)[0][0])\n",
    "        j = (np.where(act == self.action_space)[0][0])\n",
    "        k = (np.where(obs == self.observation_space)[0][0])\n",
    "        self.occ_table[i][j][k] += 1\n",
    "        \n",
    "\n",
    "class randomAgent(object):\n",
    "    \"\"\"\n",
    "    Random agent\n",
    "    \"\"\"\n",
    "    def __init__(self,\n",
    "                 action_space,\n",
    "                 observation_space,\n",
    "                 reward_space):\n",
    "        \n",
    "        self.action_space = action_space\n",
    "        self.observation_space = observation_space\n",
    "        self.reward_space = reward_space\n",
    "        self.time = 0\n",
    "\n",
    "        \n",
    "    def act(self):\n",
    "    \n",
    "        action = random.choice(self.action_space)    \n",
    "        self.time += 1\n",
    "       \n",
    "        return action\n",
    "    "
   ]
  },
  {
   "cell_type": "markdown",
   "metadata": {},
   "source": [
    "The following code is intended for the specific Volleyball task"
   ]
  },
  {
   "cell_type": "code",
   "execution_count": 50,
   "metadata": {},
   "outputs": [
    {
     "data": {
      "image/png": "[encoded data removed]",
      "text/plain": [
       "<Figure size 432x288 with 2 Axes>"
      ]
     },
     "metadata": {
      "needs_background": "light"
     },
     "output_type": "display_data"
    },
    {
     "data": {
      "image/png": "[encoded data removed]",
      "text/plain": [
       "<Figure size 432x288 with 2 Axes>"
      ]
     },
     "metadata": {
      "needs_background": "light"
     },
     "output_type": "display_data"
    },
    {
     "data": {
      "image/png": "[encoded data removed]",
      "text/plain": [
       "<Figure size 432x288 with 2 Axes>"
      ]
     },
     "metadata": {
      "needs_background": "light"
     },
     "output_type": "display_data"
    },
    {
     "data": {
      "image/png": "[encoded data removed]",
      "text/plain": [
       "<Figure size 432x288 with 2 Axes>"
      ]
     },
     "metadata": {
      "needs_background": "light"
     },
     "output_type": "display_data"
    },
    {
     "data": {
      "image/png": "[encoded data removed]",
      "text/plain": [
       "<Figure size 432x288 with 2 Axes>"
      ]
     },
     "metadata": {
      "needs_background": "light"
     },
     "output_type": "display_data"
    }
   ],
   "source": [
    "# PARAMETERS\n",
    "different_probs = np.array([[0.8, 0.2],\n",
    "                            [0.5, 0.5],\n",
    "                            [0.2, 0.8], \n",
    "                            [1, 0], \n",
    "                            [0, 1]])\n",
    "list_rewards = []\n",
    "episode_count = 100 # total number of game is episode_count*10 or 11?\n",
    "# for the plot\n",
    "x = np.arange(1, episode_count*11, 1)\n",
    "\n",
    "for j in range(len(different_probs)):\n",
    "    # INIT PARAMETERS\n",
    "    probs1, probs2 = different_probs[j]\n",
    "    reward = 0\n",
    "    done = False\n",
    "    temp = 1000000\n",
    "    #INIT ENV\n",
    "    env = gym.make('gym_causal:causal-v0')\n",
    "    env.reset()\n",
    "    env.set_probs(probs1, probs2)\n",
    "    env.set_rewards(np.array([0, 1]))\n",
    "    \n",
    "    #CREATE AGENT\n",
    "    agent = Agent(env.action_space,\n",
    "                  env.observation_space, \n",
    "                  env.reward_space)\n",
    "    \n",
    "    # INIT REWARD RECORD\n",
    "    rewards = np.zeros(episode_count*11)\n",
    "    total_reward = 0\n",
    "    \n",
    "    #random agent\n",
    "    randenv = gym.make('gym_causal:causal-v0')\n",
    "    randenv.reset()\n",
    "    randenv.set_probs(probs1, probs2)\n",
    "    randenv.set_rewards(np.array([0, 1]))\n",
    "    \n",
    "    randag = randomAgent(env.action_space,\n",
    "                  env.observation_space, \n",
    "                  env.reward_space)\n",
    "    randrewards = np.zeros(episode_count*11)\n",
    "    randtotal_reward = 0\n",
    "\n",
    "    j = 0\n",
    "    l = 0\n",
    "    plays = 0\n",
    "    winsplays = 0\n",
    "    p_win_play = []\n",
    "    \n",
    "    plays1 = 0\n",
    "    winsplays1 = 0\n",
    "    p_win_play1 = []\n",
    "    for i in range(1, episode_count+1):\n",
    "        # RESET BEFORE EPISODE\n",
    "        env.reset()\n",
    "        randenv.reset()\n",
    "        done = False\n",
    "\n",
    "        while not done: \n",
    "            # Causal agent\n",
    "            temp *= 0.99\n",
    "\n",
    "            action = agent.act(temp)\n",
    "            ob, reward, done, _ = env.step(action)\n",
    "            if (action == 1) and done:\n",
    "                plays += 1\n",
    "                if (reward == 1):\n",
    "                    winsplays += 1\n",
    "            if (plays != 0):\n",
    "                p_win_play.append(winsplays/plays)\n",
    "            # update agent memory & causal graph\n",
    "            agent.update_memory(action, ob, reward, done)\n",
    "            \n",
    "            total_reward += reward\n",
    "            rewards[j] = total_reward\n",
    "\n",
    "            j += 1\n",
    "            \n",
    "            \n",
    "        done = False\n",
    "        while not done: \n",
    "            # random agent\n",
    "            action = randag.act()\n",
    "            #print(\"action\", action)\n",
    "            ob, reward, done, _ = randenv.step(action)\n",
    "            #print(\"reward\", reward)\n",
    "            #print(randenv.time)\n",
    "            if (action == 1) and done:\n",
    "                plays1 += 1\n",
    "                if (reward == 1):\n",
    "                    winsplays1 += 1\n",
    "            if (plays1 != 0):\n",
    "                p_win_play1.append(winsplays1/plays1)\n",
    "            randtotal_reward += reward\n",
    "            #print(randtotal_reward)\n",
    "            randrewards[l] = randtotal_reward\n",
    "\n",
    "            l += 1\n",
    "   \n",
    "    fig, axs  = plt.subplots(2)\n",
    "    list_rewards.append(rewards)\n",
    "    x = np.arange(0, len(rewards), 1)\n",
    "    axs[0].plot(x, rewards, color='r')\n",
    "    axs[0].plot(x, randrewards)\n",
    "    x = np.arange(0, len(p_win_play), 1)\n",
    "    x1 = np.arange(0, len(p_win_play1), 1)\n",
    "    axs[1].plot(x, p_win_play, 'r')\n",
    "    axs[1].plot(x1, p_win_play1)\n",
    "    env.close()\n",
    "    randenv.close()"
   ]
  },
  {
   "cell_type": "code",
   "execution_count": 155,
   "metadata": {},
   "outputs": [],
   "source": [
    "def get_data_for_plot_agent(different_probs):\n",
    "    # PARAMETERS\n",
    "    list_rewards = []\n",
    "    episode_count = 100 # total number of game is episode_count*10 or 11?\n",
    "    # for the plot\n",
    "    x = np.arange(0, episode_count*11, 1)\n",
    "\n",
    "    for j in range(len(different_probs)):\n",
    "        # INIT PARAMETERS\n",
    "        probs1, probs2 = different_probs[j]\n",
    "        reward = 0\n",
    "        done = False\n",
    "        temp = 1000000\n",
    "        #INIT ENV\n",
    "        env = gym.make('gym_causal:causal-v0')\n",
    "        env.reset()\n",
    "        env.set_probs(probs1, probs2)\n",
    "        env.set_rewards(np.array([0, 1]))\n",
    "\n",
    "        #CREATE AGENT\n",
    "        agent = Agent(env.action_space,\n",
    "                      env.observation_space,\n",
    "                      env.reward_space)\n",
    "\n",
    "        # INIT REWARD RECORD\n",
    "        rewards = np.zeros(episode_count*11)\n",
    "        total_reward = 0\n",
    "\n",
    "        #random agent\n",
    "        randenv = gym.make('gym_causal:causal-v0')\n",
    "        randenv.reset()\n",
    "        randenv.set_probs(probs1, probs2)\n",
    "        randenv.set_rewards(np.array([0, 1]))\n",
    "\n",
    "        randag = randomAgent(env.action_space,\n",
    "                      env.observation_space,\n",
    "                      env.reward_space)\n",
    "        randrewards = np.zeros(episode_count*11)\n",
    "        randtotal_reward = 0\n",
    "\n",
    "        j = 0\n",
    "        l = 0\n",
    "        \n",
    "        plays = 0\n",
    "        winsplays = 0\n",
    "        p_win_play = np.zeros(episode_count*11)\n",
    "\n",
    "        plays1 = 0\n",
    "        winsplays1 = 0\n",
    "        p_win_play1 = []\n",
    "        for i in range(0, episode_count):\n",
    "            # RESET BEFORE EPISODE\n",
    "            env.reset()\n",
    "            randenv.reset()\n",
    "            done = False\n",
    "            while not done:\n",
    "                # Causal agent\n",
    "                temp *= 0.99\n",
    "                action = agent.act(temp)\n",
    "                ob, reward, done, _ = env.step(action)\n",
    "                if (action == 1) and done:\n",
    "                    plays += 1\n",
    "                    if (reward == 1):\n",
    "                        winsplays += 1\n",
    "                if (plays != 0):\n",
    "                    p_win_play[i] =  winsplays/plays\n",
    "                # update agent memory & causal graph\n",
    "                agent.update_memory(action, ob, reward, done)\n",
    "\n",
    "                total_reward += reward\n",
    "                rewards[j] = total_reward\n",
    "\n",
    "                j += 1\n",
    "            \n",
    "\n",
    "            done = False\n",
    "            while not done:\n",
    "                # random agent\n",
    "                action = randag.act()\n",
    "                #print(\"action\", action)\n",
    "                ob, reward, done, _ = randenv.step(action)\n",
    "                #print(\"reward\", reward)\n",
    "                #print(randenv.time)\n",
    "                if (action == 1) and done:\n",
    "                    plays1 += 1\n",
    "                    if (reward == 1):\n",
    "                        winsplays1 += 1\n",
    "                if (plays1 != 0):\n",
    "                    p_win_play1.append(winsplays1/plays1)\n",
    "                randtotal_reward += reward\n",
    "                #print(randtotal_reward)\n",
    "                randrewards[l] = randtotal_reward\n",
    "\n",
    "                l += 1\n",
    "\n",
    "        list_rewards.append(rewards)\n",
    "        env.close()\n",
    "        randenv.close()\n",
    "        return p_win_play\n"
   ]
  },
  {
   "cell_type": "code",
   "execution_count": 156,
   "metadata": {},
   "outputs": [],
   "source": [
    "p, q = get_data_for_plot(np.array([[0.8, 0.2]]))"
   ]
  },
  {
   "cell_type": "code",
   "execution_count": 157,
   "metadata": {},
   "outputs": [],
   "source": [
    "p = [get_data_for_plot_agent(np.array([[0.8,0.2]])) for i in range(10)]\n",
    "p = np.stack(p, axis=0)"
   ]
  },
  {
   "cell_type": "code",
   "execution_count": 158,
   "metadata": {},
   "outputs": [
    {
     "data": {
      "text/plain": [
       "(10, 1100)"
      ]
     },
     "execution_count": 158,
     "metadata": {},
     "output_type": "execute_result"
    }
   ],
   "source": [
    "p.shape"
   ]
  },
  {
   "cell_type": "code",
   "execution_count": 164,
   "metadata": {},
   "outputs": [
    {
     "data": {
      "text/plain": [
       "0.4898979485566356"
      ]
     },
     "execution_count": 164,
     "metadata": {},
     "output_type": "execute_result"
    }
   ],
   "source": [
    "np.std(p[:, 0])"
   ]
  },
  {
   "cell_type": "code",
   "execution_count": 165,
   "metadata": {},
   "outputs": [],
   "source": [
    "means = np.zeros(1100)\n",
    "std = np.zeros(1100)\n",
    "for j in range(1100):\n",
    "    means[j] = np.mean(p[:,j])\n",
    "    std[j] = np.std(p[:, j])\n",
    "    "
   ]
  },
  {
   "cell_type": "code",
   "execution_count": 171,
   "metadata": {},
   "outputs": [
    {
     "data": {
      "text/plain": [
       "<matplotlib.collections.PolyCollection at 0x7ff409306d00>"
      ]
     },
     "execution_count": 171,
     "metadata": {},
     "output_type": "execute_result"
    },
    {
     "data": {
      "image/png": "[encoded data removed]",
      "text/plain": [
       "<Figure size 432x288 with 1 Axes>"
      ]
     },
     "metadata": {
      "needs_background": "light"
     },
     "output_type": "display_data"
    }
   ],
   "source": [
    "x = np.arange(1100)\n",
    "plt.plot(x[:100], means[:100])\n",
    "plt.fill_between(x[:100], means[:100] - std[:100], means[:100] + std[:100], alpha=0.2)"
   ]
  },
  {
   "cell_type": "code",
   "execution_count": null,
   "metadata": {},
   "outputs": [],
   "source": []
  }
 ],
 "metadata": {
  "kernelspec": {
   "display_name": "Python 3",
   "language": "python",
   "name": "python3"
  },
  "language_info": {
   "codemirror_mode": {
    "name": "ipython",
    "version": 3
   },
   "file_extension": ".py",
   "mimetype": "text/x-python",
   "name": "python",
   "nbconvert_exporter": "python",
   "pygments_lexer": "ipython3",
   "version": "3.8.5"
  },
  "toc": {
   "base_numbering": 1,
   "nav_menu": {},
   "number_sections": true,
   "sideBar": true,
   "skip_h1_title": false,
   "title_cell": "Table of Contents",
   "title_sidebar": "Contents",
   "toc_cell": false,
   "toc_position": {},
   "toc_section_display": true,
   "toc_window_display": false
  }
 },
 "nbformat": 4,
 "nbformat_minor": 4
}
